{
 "cells": [
  {
   "cell_type": "code",
   "execution_count": 260,
   "metadata": {
    "collapsed": true,
    "ExecuteTime": {
     "end_time": "2023-07-14T11:17:50.037664Z",
     "start_time": "2023-07-14T11:17:50.017857600Z"
    }
   },
   "outputs": [],
   "source": [
    "import numpy as np\n",
    "\n",
    "# TVM imports\n",
    "import tvm\n",
    "from tvm import relay\n",
    "from tvm.contrib.download import download_testdata\n",
    "from tvm.contrib import graph_executor\n",
    "\n",
    "# PyTorch imports\n",
    "import torch\n",
    "from torchvision import models, transforms\n",
    "from torchvision.models import ResNet50_Weights\n",
    "\n",
    "# Image processing\n",
    "from PIL import Image\n",
    "import matplotlib.pyplot as plt"
   ]
  },
  {
   "cell_type": "markdown",
   "source": [
    "### Load a pretrained PyTorch model"
   ],
   "metadata": {
    "collapsed": false
   }
  },
  {
   "cell_type": "code",
   "execution_count": 261,
   "outputs": [],
   "source": [
    "model_name = \"resnet50\"\n",
    "model = getattr(models, model_name)(weights=ResNet50_Weights.DEFAULT)\n",
    "model = model.eval()\n",
    "\n",
    "# We grab the TorchScripted model via tracing\n",
    "input_shape = [1, 3, 224, 224]\n",
    "input_data = torch.randn(input_shape)\n",
    "scripted_model = torch.jit.trace(model, input_data).eval()"
   ],
   "metadata": {
    "collapsed": false,
    "ExecuteTime": {
     "end_time": "2023-07-14T11:17:52.059208800Z",
     "start_time": "2023-07-14T11:17:50.026528200Z"
    }
   }
  },
  {
   "cell_type": "markdown",
   "source": [
    "### Laod random image"
   ],
   "metadata": {
    "collapsed": false
   }
  },
  {
   "cell_type": "code",
   "execution_count": 262,
   "outputs": [],
   "source": [
    "img_url = \"https://www.wallpaperup.com/uploads/wallpapers/2014/01/02/213040/661dbafafce180b119d5396c80050393.jpg\"\n",
    "img_path = download_testdata(img_url, \"sg.jpg\", module=\"data\")\n",
    "img = Image.open(img_path).resize((224, 224))\n",
    "\n",
    "# Preprocess the image and convert to tensor\n",
    "my_preprocess = transforms.Compose(\n",
    "    [\n",
    "        transforms.Resize(224),\n",
    "        transforms.ToTensor(),\n",
    "    ]\n",
    ")\n",
    "\n",
    "img = my_preprocess(img)\n",
    "img = np.expand_dims(img, 0)"
   ],
   "metadata": {
    "collapsed": false,
    "ExecuteTime": {
     "end_time": "2023-07-14T11:17:52.136919800Z",
     "start_time": "2023-07-14T11:17:52.060210300Z"
    }
   }
  },
  {
   "cell_type": "markdown",
   "source": [
    "### Helper functions for importing the graph to Relay and compiling the model\n"
   ],
   "metadata": {
    "collapsed": false
   }
  },
  {
   "cell_type": "code",
   "execution_count": 264,
   "outputs": [],
   "source": [
    "def quantize(mod, params, quantize_arg):\n",
    "    with relay.quantize.qconfig(calibrate_mode='global_scale', dtype_input=quantize_arg, dtype_weight=quantize_arg, dtype_activation=quantize_arg, global_scale=8.0):\n",
    "        modd = relay.quantize.quantize(mod, params)\n",
    "        return modd\n",
    "\n",
    "def get_model(quantize_arg=None, image=img):\n",
    "    input_name = \"input0\"\n",
    "    shape_list = [(input_name, image.shape)]\n",
    "    mod, params = relay.frontend.from_pytorch(scripted_model, shape_list)\n",
    "    if quantize_arg != \"Unquantized\":\n",
    "        mod = quantize(mod, params, quantize_arg)\n",
    "    return mod, params\n",
    "\n",
    "\n",
    "def compile_model(target_arg, quantize_arg=\"\"):\n",
    "    mod, params = get_model(quantize_arg)\n",
    "    with tvm.transform.PassContext(opt_level=3):\n",
    "        lb = relay.build(mod, target=target_arg, params=params)\n",
    "    return lb"
   ],
   "metadata": {
    "collapsed": false,
    "ExecuteTime": {
     "end_time": "2023-07-14T11:17:52.177237900Z",
     "start_time": "2023-07-14T11:17:52.156028600Z"
    }
   }
  },
  {
   "cell_type": "markdown",
   "source": [
    "### Hardware configuration"
   ],
   "metadata": {
    "collapsed": false
   }
  },
  {
   "cell_type": "code",
   "execution_count": 265,
   "outputs": [],
   "source": [
    "target = tvm.target.Target(\"llvm\", host=\"llvm\")\n",
    "dev = tvm.cpu(0)\n",
    "\n",
    "dtype = \"float32\""
   ],
   "metadata": {
    "collapsed": false,
    "ExecuteTime": {
     "end_time": "2023-07-14T11:17:52.193379100Z",
     "start_time": "2023-07-14T11:17:52.169144500Z"
    }
   }
  },
  {
   "cell_type": "markdown",
   "source": [
    "### Running inference for different quantization schemes"
   ],
   "metadata": {
    "collapsed": false
   }
  },
  {
   "cell_type": "code",
   "execution_count": 273,
   "outputs": [],
   "source": [
    "res_dict = {}\n",
    "keys = [\"Unquantized\", \"int16\", \"int8\", \"int4\", \"int2\", \"bool\", \"int7\", \"int6\"]\n",
    "\n",
    "for key in keys:\n",
    "    try:\n",
    "        lib = compile_model(target, key)\n",
    "        m = graph_executor.GraphModule(lib[\"default\"](dev))\n",
    "        # Set inputs\n",
    "        m.set_input(\"input0\", tvm.nd.array(img.astype(dtype)))\n",
    "        # Execute and benchmark\n",
    "        res = m.benchmark(dev)\n",
    "        res_dict[key] = (res.mean,res.std)\n",
    "    except Exception as e:\n",
    "        res_dict[key] = \"Not supported\""
   ],
   "metadata": {
    "collapsed": false,
    "ExecuteTime": {
     "end_time": "2023-07-14T11:34:48.021238600Z",
     "start_time": "2023-07-14T11:29:59.857805200Z"
    }
   }
  },
  {
   "cell_type": "markdown",
   "source": [
    "### Results"
   ],
   "metadata": {
    "collapsed": false
   }
  },
  {
   "cell_type": "code",
   "execution_count": 275,
   "outputs": [
    {
     "name": "stdout",
     "output_type": "stream",
     "text": [
      "Unquantized: mean = 0.063074648, std = 0.0032443618683149385\n",
      "int16: mean = 0.066792128, std = 0.005332998579570033\n",
      "int8: mean = 0.14741260399999997, std = 0.003983096202210534\n",
      "int4: Not supported\n",
      "int2: Not supported\n",
      "bool: mean = 0.041592439999999994, std = 0.0022442325897286132\n",
      "int7: Not supported\n",
      "int6: Not supported\n"
     ]
    }
   ],
   "source": [
    "for item in res_dict.items():\n",
    "    key, value = item\n",
    "    if value == \"Not supported\":\n",
    "        print(f\"{key}: {value}\")\n",
    "    else:\n",
    "        mean, std = value\n",
    "        print(f\"{key}: mean = {mean}, std = {std}\")"
   ],
   "metadata": {
    "collapsed": false,
    "ExecuteTime": {
     "end_time": "2023-07-14T11:37:21.655764100Z",
     "start_time": "2023-07-14T11:37:21.651208Z"
    }
   }
  },
  {
   "cell_type": "markdown",
   "source": [
    "### Plotting results"
   ],
   "metadata": {
    "collapsed": false
   }
  },
  {
   "cell_type": "code",
   "execution_count": 291,
   "outputs": [
    {
     "data": {
      "text/plain": "<Figure size 640x480 with 1 Axes>",
      "image/png": "[encoded data removed]"
     },
     "metadata": {},
     "output_type": "display_data"
    }
   ],
   "source": [
    "means = [res_dict[key][0] for key in keys if res_dict[key] != \"Not supported\"]\n",
    "stds = [res_dict[key][1] for key in keys if res_dict[key] != \"Not supported\"]\n",
    "keys = [key for key in keys if res_dict[key] != \"Not supported\"]\n",
    "\n",
    "fig, ax = plt.subplots()\n",
    "ax.bar(keys, means)\n",
    "ax.bar(keys, means, yerr=stds, align='center', alpha=0.7, color='purple', ecolor='black', capsize=7)\n",
    "ax.set_ylabel(\"Mean inference time (ms)\")\n",
    "ax.set_xlabel(\"Quantization scheme\")\n",
    "ax.set_title(\"Inference time vs quantization scheme\")\n",
    "plt.show()"
   ],
   "metadata": {
    "collapsed": false,
    "ExecuteTime": {
     "end_time": "2023-07-14T11:46:51.206227900Z",
     "start_time": "2023-07-14T11:46:51.109540600Z"
    }
   }
  },
  {
   "cell_type": "markdown",
   "source": [
    "## Conclusion\n",
    "As we can see **int4**, **int2**, **int6** and **int7** are not supported by TVM compiler. **Int4** and **int2** are not supported because the number of bits must be dividable by 8 and base must be >= **8** in *int_base* notation. Although both **int7** and **int6** have base smaller then 8, I suspect that they are also not working because in code for quantization there is setting *\"weight_scale\": \"power2\"* which means that the scale of the weights must be a **power of 2**. This is not the case for **int7** and **int6**.\n",
    "\n",
    "### Inference time vs quantization scheme\n",
    "We can see that **bool quantization** scheme is **the fastest** in terms of inference time. This is expected because **bool quantization** scheme is the most aggressive quantization scheme. It is also the **least accurate** quantization scheme.\n",
    "On the other hand, **int8** quantization scheme is the **slowest** and **int16** is close to unqauntized one. This is not to be expected because **int8** quantization scheme is the second most aggressive and should be faster than **int16**, but also less accurate."
   ],
   "metadata": {
    "collapsed": false
   }
  }
 ],
 "metadata": {
  "kernelspec": {
   "display_name": "Python 3",
   "language": "python",
   "name": "python3"
  },
  "language_info": {
   "codemirror_mode": {
    "name": "ipython",
    "version": 2
   },
   "file_extension": ".py",
   "mimetype": "text/x-python",
   "name": "python",
   "nbconvert_exporter": "python",
   "pygments_lexer": "ipython2",
   "version": "2.7.6"
  }
 },
 "nbformat": 4,
 "nbformat_minor": 0
}
